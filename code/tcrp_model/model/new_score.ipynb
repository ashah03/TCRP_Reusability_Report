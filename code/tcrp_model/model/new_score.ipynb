{
 "cells": [
  {
   "cell_type": "code",
   "execution_count": 22,
   "id": "093b3ddf-eb85-4a74-8b9b-61b4b940c2f2",
   "metadata": {},
   "outputs": [],
   "source": [
    "import numpy as np\n",
    "from utils import *\n",
    "import torch"
   ]
  },
  {
   "cell_type": "markdown",
   "id": "fe277329-7b53-42c7-a510-5f43d760c72a",
   "metadata": {},
   "source": [
    "# Using new Performance Metrics (Spearmans, Pearsons, etc)"
   ]
  },
  {
   "cell_type": "markdown",
   "id": "80b2a255-823b-4f7b-a100-eaaee5d3b511",
   "metadata": {},
   "source": [
    "This notebook will walk you through how, using existing results from a TCRP run, calculate performance metrics using other methods. The original paper measures performance via Pearson's correlation, but if you would like to substitute Pearson's for another metric (such as Spearman's), this notebook will be useful!"
   ]
  },
  {
   "cell_type": "markdown",
   "id": "bba46a17-6d7a-4ba8-b729-e04a50d56bff",
   "metadata": {},
   "source": [
    "First, you must enter certain hyperparameters that were used in your TCRP run (these are found in the original `MAML_DRUG.py` run command you executed for this dataset, drug and tissue"
   ]
  },
  {
   "cell_type": "code",
   "execution_count": 32,
   "id": "ddade83c-87da-44ee-9120-42cf30760bb8",
   "metadata": {},
   "outputs": [],
   "source": [
    "num_epochs = 10\n",
    "num_trials = 20\n",
    "K = 10"
   ]
  },
  {
   "cell_type": "markdown",
   "id": "1d7a6000-74a1-467b-8f00-009df58d89a5",
   "metadata": {},
   "source": [
    "find the folder containing the results for this set of hyperparameters"
   ]
  },
  {
   "cell_type": "code",
   "execution_count": 16,
   "id": "930a5ef8-f827-43c6-91a8-94d881be2b1c",
   "metadata": {},
   "outputs": [],
   "source": [
    "run_folder = \"/results/gCSI_PDTC_predictions/Paclitaxel/PDTC/0.1_0.001_1_12\""
   ]
  },
  {
   "cell_type": "markdown",
   "id": "def4f2b6-a3c7-4ce3-a743-18e157232413",
   "metadata": {},
   "source": [
    "# Get Zero Shot Performance"
   ]
  },
  {
   "cell_type": "code",
   "execution_count": 43,
   "id": "fffa78d9-9ae8-4172-a9e1-4de237a78b5b",
   "metadata": {},
   "outputs": [],
   "source": [
    "zero_list = []\n",
    "for i in range(num_epochs):\n",
    "    zero_prediction = np.load(f\"{run_folder}/epochs_{i}/zero_shot_predict.npy\")\n",
    "    zero_label = np.load(f\"{run_folder}/epochs_{i}/zero_shot_true.npy\")\n",
    "    zero_list.append(pearson_corr(torch.Tensor(zero_prediction), torch.Tensor(zero_label)))\n",
    "zero_list = np.array(zero_list)"
   ]
  },
  {
   "cell_type": "markdown",
   "id": "016459dd-31a7-4d09-84c6-58d067a77d8d",
   "metadata": {},
   "source": [
    "# Get Few Shot Performance"
   ]
  },
  {
   "cell_type": "code",
   "execution_count": 25,
   "id": "443eb806-e9c5-4fe4-810a-3eb3d5149c39",
   "metadata": {},
   "outputs": [],
   "source": [
    "total_train_list = []\n",
    "for i in range(num_epochs):\n",
    "    epoch_list = []\n",
    "    for k in range(1, K+1):\n",
    "        sample_list = []\n",
    "        for j in range(num_trials):\n",
    "            prediction = np.load(f\"{run_folder}/epochs_{i}/{k}_{j}_shot_predict.npy\")\n",
    "            label = np.load(f\"{run_folder}/epochs_{i}/{k}_{j}_shot_true.npy\")\n",
    "            sample_list.append(pearson_corr(torch.Tensor(prediction), torch.Tensor(label)))\n",
    "        epoch_list.append(np.array(sample_list).mean())\n",
    "    total_train_list.append(epoch_list)"
   ]
  },
  {
   "cell_type": "markdown",
   "id": "d620cb9e-a685-480c-8044-452d38016f2b",
   "metadata": {},
   "source": [
    "# Find Best Epoch"
   ]
  },
  {
   "cell_type": "markdown",
   "id": "6375eb47-0fdb-40ea-96c7-1f951b8f5362",
   "metadata": {},
   "source": [
    "In order to receive the best performance metrics, the values for the best epoch must be retrieved. The best epoch is written in `log.txt` in the directory `run_folder`"
   ]
  },
  {
   "cell_type": "code",
   "execution_count": 35,
   "id": "7dee4391-8016-42d0-9ea7-053b4b5ae7eb",
   "metadata": {},
   "outputs": [],
   "source": [
    "best_epoch = 6"
   ]
  },
  {
   "cell_type": "markdown",
   "id": "b98749db-27f4-42eb-a9e6-3163a4898d51",
   "metadata": {},
   "source": [
    "Now, we will subset to obtain zero shot and few shot performance for the best epoch"
   ]
  },
  {
   "cell_type": "code",
   "execution_count": 44,
   "id": "0f15aaed-4689-4873-a336-b1f27ba148d5",
   "metadata": {},
   "outputs": [],
   "source": [
    "best_train = total_train_list[best_epoch]\n",
    "best_zero = zero_list[best_epoch]"
   ]
  },
  {
   "cell_type": "markdown",
   "id": "9225b50d-5283-4b4b-89a6-4f713cfea38f",
   "metadata": {},
   "source": [
    "# Now, we can visualize the performance metric for this dataset, tissue, drug and epoch (across the number of samples)"
   ]
  },
  {
   "cell_type": "code",
   "execution_count": 48,
   "id": "e17f22f3-d0b7-4fca-912d-eaaeed6e416a",
   "metadata": {},
   "outputs": [
    {
     "name": "stdout",
     "output_type": "stream",
     "text": [
      "Zero Shot\n",
      "-0.18085875\n",
      "Few Shot\n"
     ]
    },
    {
     "data": {
      "text/plain": [
       "[0.19999997615814208,\n",
       " 0.35000000298023226,\n",
       " 0.4500000149011612,\n",
       " 0.5,\n",
       " 0.5,\n",
       " 0.6,\n",
       " 0.6,\n",
       " 0.5,\n",
       " 0.5,\n",
       " 0.6]"
      ]
     },
     "execution_count": 48,
     "metadata": {},
     "output_type": "execute_result"
    }
   ],
   "source": [
    "print(\"Zero Shot\")\n",
    "print((best_zero))\n",
    "print(\"Few Shot\")\n",
    "best_train"
   ]
  },
  {
   "cell_type": "markdown",
   "id": "aa71dbd2-36e4-4df8-8971-d98158a92b9a",
   "metadata": {},
   "source": [
    "We utilized the Pearson's correlation here, but that can easily be replaced in the appopriate places with other performance metrics!"
   ]
  }
 ],
 "metadata": {
  "kernelspec": {
   "display_name": "Python 3 (ipykernel)",
   "language": "python",
   "name": "python3"
  },
  "language_info": {
   "codemirror_mode": {
    "name": "ipython",
    "version": 3
   },
   "file_extension": ".py",
   "mimetype": "text/x-python",
   "name": "python",
   "nbconvert_exporter": "python",
   "pygments_lexer": "ipython3",
   "version": "3.8.5"
  }
 },
 "nbformat": 4,
 "nbformat_minor": 5
}
