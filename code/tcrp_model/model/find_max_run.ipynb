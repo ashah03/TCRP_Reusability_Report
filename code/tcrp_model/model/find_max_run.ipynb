{
 "cells": [
  {
   "cell_type": "code",
   "execution_count": 1,
   "id": "f560cc33-aa02-4090-af9c-542927093ddf",
   "metadata": {},
   "outputs": [],
   "source": [
    "import os "
   ]
  },
  {
   "cell_type": "code",
   "execution_count": 2,
   "id": "b22eaf56-3f25-4d3c-9b87-42ae974938e5",
   "metadata": {},
   "outputs": [],
   "source": [
    "drug = \"Paclitaxel\"\n",
    "tissue=\"GSE25066_Breast\"\n",
    "dataset=\"GDSC1_GSE25066\"\n",
    "#objective_val = 0.450983333"
   ]
  },
  {
   "cell_type": "code",
   "execution_count": 3,
   "id": "5e2456f3-349c-4c14-9dd5-4729aa4b11a7",
   "metadata": {},
   "outputs": [],
   "source": [
    "file_list = []\n",
    "for i in os.listdir(f\"/root/capsule/results/{dataset}_predictions/{drug}/{tissue}/\"):\n",
    "    f = open(f\"/root/capsule/results/{dataset}_predictions/{drug}/{tissue}/{i}/log.txt\", \"r\")\n",
    "    file_list.append([i.strip() for i in f.readlines()])\n",
    "\n",
    "zero_cors = [float(i[-1].split(f\",\")[-1]) for i in file_list]\n",
    "dir_list = os.listdir(f\"/root/capsule/results/{dataset}_predictions/{drug}/{tissue}/\")"
   ]
  },
  {
   "cell_type": "code",
   "execution_count": 4,
   "id": "d5eff7f9-8f6a-4430-bf4f-3e68d3781bfc",
   "metadata": {},
   "outputs": [
    {
     "name": "stdout",
     "output_type": "stream",
     "text": [
      "Best zero corr is 0.001_0.001_1_12\n"
     ]
    }
   ],
   "source": [
    "print(f\"Best zero corr is {dir_list[zero_cors.index(max(zero_cors))]}\")"
   ]
  },
  {
   "cell_type": "code",
   "execution_count": 5,
   "id": "1fe33c6d-d1a7-4a96-ad60-04e097c2a55a",
   "metadata": {},
   "outputs": [],
   "source": [
    "files = os.listdir(f\"/root/capsule/results/{dataset}/run-logs/{drug}/{tissue}/\")"
   ]
  },
  {
   "cell_type": "code",
   "execution_count": 6,
   "id": "7545856f-8711-4776-ae5c-787e82694486",
   "metadata": {},
   "outputs": [],
   "source": [
    "mean_list = []\n",
    "for i in files:\n",
    "    if i != '.ipynb_checkpoints':\n",
    "        f = open(f\"/root/capsule/results/{dataset}/run-logs/{drug}/{tissue}/\"+ i, \"r\")\n",
    "        try:\n",
    "            mean_list.append(float(f.readlines()[0].split(' ')[-1].strip()))\n",
    "        except IndexError:\n",
    "            mean_list.append(0)"
   ]
  },
  {
   "cell_type": "code",
   "execution_count": 7,
   "id": "9c11a6f0-84df-4701-978c-5c689718be3a",
   "metadata": {},
   "outputs": [
    {
     "name": "stdout",
     "output_type": "stream",
     "text": [
      "Max is in GSE25066_Breast_Paclitaxel_0.001_0.001_2_6.log\n"
     ]
    }
   ],
   "source": [
    "print(f\"Max is in {files[mean_list.index(max(mean_list))]}\")"
   ]
  },
  {
   "cell_type": "code",
   "execution_count": 8,
   "id": "de89ad28",
   "metadata": {},
   "outputs": [
    {
     "name": "stdout",
     "output_type": "stream",
     "text": [
      "0.2402449381351471\n"
     ]
    }
   ],
   "source": [
    "print(max(mean_list))"
   ]
  },
  {
   "cell_type": "code",
   "execution_count": null,
   "id": "e081a0d8",
   "metadata": {},
   "outputs": [],
   "source": []
  }
 ],
 "metadata": {
  "kernelspec": {
   "display_name": "Python 3 (ipykernel)",
   "language": "python",
   "name": "python3"
  },
  "language_info": {
   "codemirror_mode": {
    "name": "ipython",
    "version": 3
   },
   "file_extension": ".py",
   "mimetype": "text/x-python",
   "name": "python",
   "nbconvert_exporter": "python",
   "pygments_lexer": "ipython3",
   "version": "3.8.5"
  },
  "vscode": {
   "interpreter": {
    "hash": "d4d1e4263499bec80672ea0156c357c1ee493ec2b1c70f0acce89fc37c4a6abe"
   }
  }
 },
 "nbformat": 4,
 "nbformat_minor": 5
}
