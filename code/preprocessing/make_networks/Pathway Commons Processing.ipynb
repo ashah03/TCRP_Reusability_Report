{
 "cells": [
  {
   "cell_type": "code",
   "execution_count": 1,
   "metadata": {
    "collapsed": false,
    "jupyter": {
     "outputs_hidden": false
    }
   },
   "outputs": [],
   "source": [
    "from network_evaluation_tools import gene_conversion_tools as gct\n",
    "from network_evaluation_tools import data_import_tools as dit\n",
    "import pandas as pd\n",
    "import time"
   ]
  },
  {
   "cell_type": "markdown",
   "metadata": {},
   "source": [
    "## Load Pathway Commons Raw Data (All interactions)\n",
    "#### Source: http://www.pathwaycommons.org/archives/PC2/v9/PathwayCommons9.All.hgnc.txt.gz\n",
    "Downloaded: June 15, 2017  \n",
    "Last Updated: May 25, 2017  \n",
    "Citation: Pathway Commons, a web resource for biological pathway data. Cerami E et al. Nucleic Acids Research (2011).  \n",
    "A Note about filtering interactions: Pathway Commons also contains interactions between proteins and small molecules from the CHEBI database. These interactions will need to be filtered out as they are not protein-protein interactions.  \n",
    "Also note: The text file has more lines than the sif file in Pathway Commons. However, the text file has some interactions that are unclear how to resolve so for this case we will use the sif file provided by Pathway Commons"
   ]
  },
  {
   "cell_type": "code",
   "execution_count": 2,
   "metadata": {
    "collapsed": false,
    "jupyter": {
     "outputs_hidden": false
    }
   },
   "outputs": [
    {
     "name": "stdout",
     "output_type": "stream",
     "text": [
      "Raw interactions in Pathway Commons v9: 1546602\n"
     ]
    }
   ],
   "source": [
    "wd = '/data/'\n",
    "PC_Raw = pd.read_csv(wd+'PathwayCommons9.All.hgnc.sif', sep='\\t', header=None)\n",
    "print('Raw interactions in Pathway Commons v9:', PC_Raw.shape[0])"
   ]
  },
  {
   "cell_type": "code",
   "execution_count": 3,
   "metadata": {
    "collapsed": false,
    "jupyter": {
     "outputs_hidden": false
    }
   },
   "outputs": [
    {
     "name": "stdout",
     "output_type": "stream",
     "text": [
      "Protein-Protein interactions in Pathway Commons v9: 987778\n"
     ]
    }
   ],
   "source": [
    "# Filter all interactions that contain a CHEBI: item\n",
    "PC_filt = PC_Raw[(~PC_Raw[0].str.contains(':')) & (~PC_Raw[2].str.contains(':'))]\n",
    "PC_edgelist = PC_filt[[0, 2]].values.tolist()\n",
    "print('Protein-Protein interactions in Pathway Commons v9:', len(PC_edgelist))"
   ]
  },
  {
   "cell_type": "code",
   "execution_count": 4,
   "metadata": {
    "tags": []
   },
   "outputs": [],
   "source": [
    "# Sort each edge representation for filtering\n",
    "PC_edgelist_sorted = [sorted(edge) for edge in PC_edgelist]"
   ]
  },
  {
   "cell_type": "code",
   "execution_count": 5,
   "metadata": {
    "collapsed": false,
    "jupyter": {
     "outputs_hidden": false
    }
   },
   "outputs": [],
   "source": [
    "# Filter edgelist for duplicate nodes and for self-edges\n",
    "PC_edgelist_filt = gct.filter_converted_edgelist(PC_edgelist_sorted)"
   ]
  },
  {
   "cell_type": "code",
   "execution_count": 6,
   "metadata": {
    "collapsed": false,
    "jupyter": {
     "outputs_hidden": false
    }
   },
   "outputs": [],
   "source": [
    "# Save genelist to file\n",
    "outdir = '/data/'\n",
    "gct.write_edgelist(PC_edgelist_filt, outdir+'PathwayCommons_Symbol.sif')"
   ]
  },
  {
   "cell_type": "code",
   "execution_count": null,
   "metadata": {},
   "outputs": [],
   "source": []
  }
 ],
 "metadata": {
  "kernelspec": {
   "display_name": "Python 3 (ipykernel)",
   "language": "python",
   "name": "python3"
  },
  "language_info": {
   "codemirror_mode": {
    "name": "ipython",
    "version": 3
   },
   "file_extension": ".py",
   "mimetype": "text/x-python",
   "name": "python",
   "nbconvert_exporter": "python",
   "pygments_lexer": "ipython3",
   "version": "3.7.3"
  }
 },
 "nbformat": 4,
 "nbformat_minor": 4
}
